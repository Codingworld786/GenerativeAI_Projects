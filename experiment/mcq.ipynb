{
 "cells": [
  {
   "cell_type": "markdown",
   "metadata": {},
   "source": [
    "\"\"\"\n",
    "Steps we will follow to create  our mcq generator\n",
    "<!--  -->\n",
    "import libraries\n",
    "create response_json means the pattern which we want for our mcq generator\n",
    "Template : quiz template\n",
    "mention chain\n",
    "write second template for review\n",
    "chain\n",
    "\"\"\""
   ]
  },
  {
   "cell_type": "code",
   "execution_count": 2,
   "metadata": {},
   "outputs": [],
   "source": [
    "import os\n",
    "import json\n",
    "import pandas as pd\n",
    "import traceback\n"
   ]
  },
  {
   "cell_type": "code",
   "execution_count": 15,
   "metadata": {},
   "outputs": [],
   "source": [
    "from langchain.llms import OpenAI\n",
    "from langchain.prompts import PromptTemplate\n",
    "from langchain.chains import LLMChain\n",
    "from langchain.chains import SequentialChain\n",
    "from langchain.callbacks import get_openai_callback\n",
    "import PyPDF2"
   ]
  },
  {
   "cell_type": "code",
   "execution_count": 4,
   "metadata": {},
   "outputs": [],
   "source": [
    "from langchain.chat_models import ChatOpenAI"
   ]
  },
  {
   "cell_type": "code",
   "execution_count": 10,
   "metadata": {},
   "outputs": [
    {
     "data": {
      "text/plain": [
       "True"
      ]
     },
     "execution_count": 10,
     "metadata": {},
     "output_type": "execute_result"
    }
   ],
   "source": [
    "from dotenv import load_dotenv\n",
    "load_dotenv()"
   ]
  },
  {
   "cell_type": "code",
   "execution_count": 7,
   "metadata": {},
   "outputs": [],
   "source": [
    "KEY=os.getenv(\"OPENAI_API_KEY\") # create a file with name .env and paste the key in .env "
   ]
  },
  {
   "cell_type": "code",
   "execution_count": 8,
   "metadata": {},
   "outputs": [
    {
     "name": "stdout",
     "output_type": "stream",
     "text": [
      "None\n"
     ]
    }
   ],
   "source": [
    "print(KEY)"
   ]
  },
  {
   "cell_type": "code",
   "execution_count": 19,
   "metadata": {},
   "outputs": [],
   "source": [
    "llm=ChatOpenAI(openai_api_key=KEY,model_name=\"gpt-3.5-turbo\",temperature=0.1) # high the value of temperature more will be creatvity of the  response"
   ]
  },
  {
   "cell_type": "markdown",
   "metadata": {},
   "source": []
  },
  {
   "cell_type": "code",
   "execution_count": 36,
   "metadata": {},
   "outputs": [],
   "source": [
    "RESPONSE_JSON= {\n",
    "    \"questions\": {\n",
    "        \"1\": {\n",
    "            \"question\": \"multiple choice question\",\n",
    "            \"options\": {\n",
    "                \"a\": \"choice here\",\n",
    "                \"b\": \"choice here\",\n",
    "                \"c\": \"choice here\",\n",
    "                \"d\": \"choice here\"\n",
    "            },\n",
    "            \"correct_answer\": \"correct answer\"\n",
    "        },\n",
    "        \"2\": {\n",
    "            \"question\": \"multiple choice question\",\n",
    "            \"options\": {\n",
    "                \"a\": \"choice here\",\n",
    "                \"b\": \"choice here\",\n",
    "                \"c\": \"choice here\",\n",
    "                \"d\": \"choice here\"\n",
    "            },\n",
    "            \"correct_answer\": \"correct answer\"\n",
    "        },\n",
    "        \"3\": {\n",
    "            \"question\": \"multiple choice question\",\n",
    "            \"options\": {\n",
    "                \"a\": \"choice here\",\n",
    "                \"b\": \"choice here\",\n",
    "                \"c\": \"choice here\",\n",
    "                \"d\": \"choice here\"\n",
    "            },\n",
    "            \"correct_answer\": \"correct answer\"\n",
    "        }\n",
    "    }\n",
    "}\n"
   ]
  },
  {
   "cell_type": "code",
   "execution_count": 12,
   "metadata": {},
   "outputs": [],
   "source": [
    "#quiz temp\n",
    "TEMPLATE = \"\"\"\n",
    "Text: {text}\n",
    "You are an expert MCQ maker. Based on the provided text, your task is to create a quiz consisting of {number} multiple-choice questions for {subject} students in a {tone} tone.\n",
    "Ensure that the questions are unique, relevant, and cover various aspects of the text. Each question should have four options labeled as \"Option A\", \"Option B\", \"Option C\", and \"Option D\", with one correct answer. \n",
    "\n",
    "Follow the format given in the RESPONSE_JSON example below and adhere to it while creating the MCQs. \n",
    "\n",
    "### RESPONSE_JSON\n",
    "{response_json}\n",
    "\n",
    "Make sure your questions:\n",
    "- Are clear and concise.\n",
    "- Have four distinct options.\n",
    "- Indicate the correct answer using the appropriate key (\"a\", \"b\", \"c\", or \"d\").\n",
    "\n",
    "Ensure that you generate exactly {number} MCQs.\n",
    "\"\"\"\n"
   ]
  },
  {
   "cell_type": "code",
   "execution_count": 16,
   "metadata": {},
   "outputs": [],
   "source": [
    "# Initialize the PromptTemplate with the TEMPLATE string\n",
    "quiz_generation_prompt = PromptTemplate(\n",
    "    input_variables=[\"text\", \"number\", \"subject\", \"tone\", \"response_json\"],\n",
    "    template=TEMPLATE\n",
    ")"
   ]
  },
  {
   "cell_type": "code",
   "execution_count": 20,
   "metadata": {},
   "outputs": [],
   "source": [
    "quiz_chain=LLMChain(llm=llm, prompt=quiz_generation_prompt, output_key=\"quiz\", verbose=True)\n"
   ]
  },
  {
   "cell_type": "code",
   "execution_count": 21,
   "metadata": {},
   "outputs": [],
   "source": [
    "TEMPLATE2 = \"\"\"\n",
    "You are an expert English grammarian and educational writer. Given a multiple-choice quiz designed for {subject} students, your task is to:\n",
    "\n",
    "1. **Analyze the Complexity**: Assess the cognitive and analytical demands of the questions and provide a brief analysis of the quiz’s complexity in up to 50 words.\n",
    "\n",
    "2. **Evaluate and Update**: Review the quiz to ensure that it aligns with the students’ cognitive and analytical abilities. If the quiz is not appropriate, update the questions as needed and adjust the tone to better fit the students' needs.\n",
    "\n",
    "3. **Check the Quiz**: Provide feedback on the quiz from the perspective of an expert English writer.\n",
    "\n",
    "Quiz_MCQs:\n",
    "{quiz}\n",
    "\n",
    "Complexity Analysis:\n",
    "\"\"\"\n"
   ]
  },
  {
   "cell_type": "code",
   "execution_count": 22,
   "metadata": {},
   "outputs": [],
   "source": [
    "quiz_evaluation_prompt=PromptTemplate(input_variables=[\"subject\", \"quiz\"], template=TEMPLATE)\n"
   ]
  },
  {
   "cell_type": "code",
   "execution_count": 25,
   "metadata": {},
   "outputs": [],
   "source": [
    "review_chain=LLMChain(llm=llm, prompt=quiz_evaluation_prompt, output_key=\"review\", verbose=True)\n"
   ]
  },
  {
   "cell_type": "code",
   "execution_count": 29,
   "metadata": {},
   "outputs": [],
   "source": [
    "generate_evaluate_chain=SequentialChain(chains=[quiz_chain, review_chain], input_variables=[\"text\", \"number\", \"subject\", \"tone\", \"response_json\"],\n",
    "                                        output_variables=[\"quiz\", \"review\"], verbose=True,)"
   ]
  },
  {
   "cell_type": "code",
   "execution_count": 30,
   "metadata": {},
   "outputs": [],
   "source": [
    "file_path=r\"E:\\VSCode_Projects\\experiment\\data.txt\""
   ]
  },
  {
   "cell_type": "code",
   "execution_count": 31,
   "metadata": {},
   "outputs": [
    {
     "data": {
      "text/plain": [
       "'E:\\\\VSCode_Projects\\\\experiment\\\\data.txt'"
      ]
     },
     "execution_count": 31,
     "metadata": {},
     "output_type": "execute_result"
    }
   ],
   "source": [
    "file_path"
   ]
  },
  {
   "cell_type": "code",
   "execution_count": 33,
   "metadata": {},
   "outputs": [],
   "source": [
    "with open(file_path, 'r') as file:\n",
    "    TEXT = file.read()\n"
   ]
  },
  {
   "cell_type": "code",
   "execution_count": 34,
   "metadata": {},
   "outputs": [
    {
     "name": "stdout",
     "output_type": "stream",
     "text": [
      "1. Understanding Generative AI: Definition and Technology\n",
      "Generative AI refers to a subset of artificial intelligence designed to produce new content, data, or solutions that mimic human creativity. Unlike traditional AI systems that rely on fixed algorithms and predefined rules, generative AI leverages complex machine learning techniques to create novel outputs. At the heart of this technology are neural networks, specifically deep learning models such as Generative Adversarial Networks (GANs) and Transformer architectures. GANs consist of two networks: a generator that creates new data instances and a discriminator that evaluates them, with the goal of producing data that is indistinguishable from real-world examples. On the other hand, Transformer-based models like GPT-3 and GPT-4 use vast amounts of text data to generate coherent and contextually relevant text by predicting the next word in a sequence based on prior words. These models are trained on diverse datasets, including text, images, and audio, to develop a deep understanding of patterns and structures inherent in these data forms. The advancements in generative AI have led to the development of sophisticated models that can create realistic images, write essays, compose music, and even generate synthetic voices. As these technologies continue to evolve, they hold the potential to revolutionize various fields by enhancing creative processes, automating tasks, and providing new forms of digital content.\n",
      "\n",
      "2. Applications of Generative AI Across Industries\n",
      "Generative AI has a wide range of applications that span across different industries, demonstrating its versatility and potential. In the creative arts, generative AI is used to create original music compositions, generate visual art, and even assist in scriptwriting for films and television. For example, AI-generated artworks have been sold at prestigious auction houses, and music composed by AI algorithms has been used in films and video games. In the field of healthcare, generative AI models are employed to design new drugs by predicting molecular structures and optimizing drug discovery processes. This technology enables researchers to explore vast chemical spaces quickly, leading to the development of innovative treatments for diseases. The fashion industry also benefits from generative AI through the creation of new clothing designs and patterns. AI-powered tools can analyze current fashion trends and generate new designs that align with consumer preferences. In the realm of finance, generative AI algorithms are used for risk assessment, fraud detection, and financial forecasting. For instance, these models can analyze market trends and generate predictive models for investment strategies. Additionally, generative AI is making strides in the gaming industry by creating complex game environments and narratives, offering players new and immersive experiences. These diverse applications highlight how generative AI is transforming industries by providing innovative solutions and enhancing existing processes.\n",
      "\n",
      "3. Challenges and Ethical Considerations in Generative AI\n",
      "While generative AI offers numerous benefits, it also presents significant challenges and ethical considerations that must be addressed. One of the primary challenges is the risk of misuse. For instance, generative models can be employed to create deepfakes, which are hyper-realistic but fabricated images or videos that can spread misinformation or damage reputations. The potential for such misuse underscores the need for robust ethical guidelines and regulatory frameworks to govern the use of these technologies. Another challenge is the issue of bias in AI-generated content. Generative models learn from existing data, which may contain biases that are then reflected in the generated outputs. For example, an AI model trained on biased data might produce discriminatory or unfair content, which can perpetuate existing inequalities. Ensuring that generative AI systems are fair and unbiased is a crucial aspect of their development. Additionally, there are concerns about intellectual property rights. As generative AI creates new content based on existing data, questions arise about the ownership of these creations and the potential infringement on the rights of original content creators. Addressing these ethical concerns requires collaboration between technologists, ethicists, and policymakers to establish standards that promote responsible and equitable use of generative AI technologies.\n",
      "\n",
      "\n"
     ]
    }
   ],
   "source": [
    "print(TEXT)"
   ]
  },
  {
   "cell_type": "code",
   "execution_count": 37,
   "metadata": {},
   "outputs": [
    {
     "data": {
      "text/plain": [
       "'{\"questions\": {\"1\": {\"question\": \"multiple choice question\", \"options\": {\"a\": \"choice here\", \"b\": \"choice here\", \"c\": \"choice here\", \"d\": \"choice here\"}, \"correct_answer\": \"correct answer\"}, \"2\": {\"question\": \"multiple choice question\", \"options\": {\"a\": \"choice here\", \"b\": \"choice here\", \"c\": \"choice here\", \"d\": \"choice here\"}, \"correct_answer\": \"correct answer\"}, \"3\": {\"question\": \"multiple choice question\", \"options\": {\"a\": \"choice here\", \"b\": \"choice here\", \"c\": \"choice here\", \"d\": \"choice here\"}, \"correct_answer\": \"correct answer\"}}}'"
      ]
     },
     "execution_count": 37,
     "metadata": {},
     "output_type": "execute_result"
    }
   ],
   "source": [
    "# Serialize the Python dictionary into a JSON-formatted string\n",
    "json.dumps(RESPONSE_JSON)"
   ]
  },
  {
   "cell_type": "code",
   "execution_count": 38,
   "metadata": {},
   "outputs": [],
   "source": [
    "NUMBER=5 \n",
    "SUBJECT=\"Artificial Intelligence\"\n",
    "TONE=\"Humble anf informative\""
   ]
  },
  {
   "cell_type": "code",
   "execution_count": 40,
   "metadata": {},
   "outputs": [],
   "source": [
    "# #How to setup Token Usage Tracking in LangChain\n",
    "# with get_openai_callback() as cb:\n",
    "#     response=generate_evaluate_chain(\n",
    "#         {\n",
    "#             \"text\": TEXT,\n",
    "#             \"number\": NUMBER,\n",
    "#             \"subject\":SUBJECT,\n",
    "#             \"tone\": TONE,\n",
    "#             \"response_json\": json.dumps(RESPONSE_JSON)\n",
    "#         }\n",
    "#         )"
   ]
  },
  {
   "cell_type": "code",
   "execution_count": 41,
   "metadata": {},
   "outputs": [],
   "source": [
    "# we can take reference of langchain documentation for more info\n",
    "\n",
    "#How to setup Token Usage Tracking in LangChain\n",
    "with get_openai_callback() as cb:\n",
    "    response=generate_evaluate_chain(\n",
    "        {\n",
    "            \"text\": TEXT,\n",
    "            \"number\": NUMBER,\n",
    "            \"subject\":SUBJECT,\n",
    "            \"tone\": TONE,\n",
    "            \"response_json\": json.dumps(RESPONSE_JSON)\n",
    "        }\n",
    "        )\n",
    "    "
   ]
  },
  {
   "cell_type": "code",
   "execution_count": 43,
   "metadata": {},
   "outputs": [],
   "source": [
    "print(f\"Total Tokens:{cb.total_tokens}\")\n",
    "print(f\"Prompt Tokens:{cb.prompt_tokens}\")\n",
    "print(f\"Completion Tokens:{cb.completion_tokens}\")\n",
    "print(f\"Total Cost:{cb.total_cost}\")"
   ]
  },
  {
   "cell_type": "markdown",
   "metadata": {},
   "source": [
    "Total Tokens:2407\n",
    "\n",
    "Prompt Tokens:1608\n",
    "\n",
    "Completion Tokens:499\n",
    "\n",
    "Total Cost:0.006"
   ]
  },
  {
   "cell_type": "code",
   "execution_count": 45,
   "metadata": {},
   "outputs": [],
   "source": [
    "response"
   ]
  },
  {
   "cell_type": "code",
   "execution_count": 51,
   "metadata": {},
   "outputs": [],
   "source": [
    "quiz=response.get(\"quiz\")\n"
   ]
  },
  {
   "cell_type": "code",
   "execution_count": 52,
   "metadata": {},
   "outputs": [],
   "source": [
    "quiz=json.loads(quiz)\n"
   ]
  },
  {
   "cell_type": "code",
   "execution_count": 53,
   "metadata": {},
   "outputs": [],
   "source": [
    "quiz_table_data = []\n",
    "for key, value in quiz.items():\n",
    "    mcq = value[\"mcq\"]\n",
    "    options = \" | \".join(\n",
    "        [\n",
    "            f\"{option}: {option_value}\"\n",
    "            for option, option_value in value[\"options\"].items()\n",
    "            ]\n",
    "        )\n",
    "    correct = value[\"correct\"]\n",
    "    quiz_table_data.append({\"MCQ\": mcq, \"Choices\": options, \"Correct\": correct})"
   ]
  },
  {
   "cell_type": "code",
   "execution_count": 54,
   "metadata": {},
   "outputs": [
    {
     "data": {
      "text/plain": [
       "[]"
      ]
     },
     "execution_count": 54,
     "metadata": {},
     "output_type": "execute_result"
    }
   ],
   "source": [
    "quiz_table_data"
   ]
  },
  {
   "cell_type": "code",
   "execution_count": null,
   "metadata": {},
   "outputs": [],
   "source": []
  },
  {
   "cell_type": "markdown",
   "metadata": {},
   "source": [
    "{\n",
    "    \"1\": {\n",
    "        \"question\": \"Which of the following industries uses Generative AI for creating new clothing designs and patterns?\",\n",
    "        \"options\": {\n",
    "            \"a\": \"Healthcare\",\n",
    "            \"b\": \"Finance\",\n",
    "            \"c\": \"Fashion\",\n",
    "            \"d\": \"Creative Arts\"\n",
    "        },\n",
    "        \"correct_answer\": \"c\"\n",
    "    }\n",
    "}\n",
    "\n",
    "{\n",
    "    \"2\": {\n",
    "        \"question\": \"What is one of the primary challenges associated with the use of Generative AI models?\",\n",
    "        \"options\": {\n",
    "            \"a\": \"High computational costs\",\n",
    "            \"b\": \"Creation of deepfakes\",\n",
    "            \"c\": \"Limited application areas\",\n",
    "            \"d\": \"Lack of data sources\"\n",
    "        },\n",
    "        \"correct_answer\": \"b\"\n",
    "    }\n",
    "}\n"
   ]
  },
  {
   "cell_type": "code",
   "execution_count": 55,
   "metadata": {},
   "outputs": [],
   "source": [
    "quiz=pd.DataFrame(quiz_table_data)\n"
   ]
  },
  {
   "cell_type": "code",
   "execution_count": 58,
   "metadata": {},
   "outputs": [],
   "source": [
    "quiz.to_csv(\"machinelearning.csv\",index=False)"
   ]
  },
  {
   "cell_type": "code",
   "execution_count": null,
   "metadata": {},
   "outputs": [],
   "source": []
  },
  {
   "cell_type": "code",
   "execution_count": null,
   "metadata": {},
   "outputs": [],
   "source": []
  },
  {
   "cell_type": "markdown",
   "metadata": {},
   "source": []
  }
 ],
 "metadata": {
  "kernelspec": {
   "display_name": "venv",
   "language": "python",
   "name": "python3"
  },
  "language_info": {
   "codemirror_mode": {
    "name": "ipython",
    "version": 3
   },
   "file_extension": ".py",
   "mimetype": "text/x-python",
   "name": "python",
   "nbconvert_exporter": "python",
   "pygments_lexer": "ipython3",
   "version": "3.10.5"
  }
 },
 "nbformat": 4,
 "nbformat_minor": 2
}
